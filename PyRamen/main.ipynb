{
 "cells": [
  {
   "cell_type": "markdown",
   "metadata": {},
   "source": [
    "# PyRamen\n",
    "\n",
    "### Python script to analyze the financial performance of a business by cross-referencing its sales data with the internal menu data to figure out revenues and costs for the year.\n"
   ]
  },
  {
   "cell_type": "code",
   "execution_count": 1,
   "metadata": {},
   "outputs": [],
   "source": [
    "# import libraries\n",
    "from pathlib import Path\n",
    "import csv"
   ]
  },
  {
   "cell_type": "code",
   "execution_count": 2,
   "metadata": {},
   "outputs": [],
   "source": [
    "# Set file paths for menu_data.csv and sales_data.csv\n",
    "menu_filepath = Path(r\"C:\\Users\\vmier\\Desktop\\Homework\\HW2\\python-homework\\PyRamen\\menu_data.csv\")\n",
    "sales_filepath = Path(r\"C:\\Users\\vmier\\Desktop\\Homework\\HW2\\python-homework\\PyRamen\\sales_data.csv\")"
   ]
  },
  {
   "cell_type": "code",
   "execution_count": 3,
   "metadata": {},
   "outputs": [],
   "source": [
    "# Initialize list objects to hold our menu and sales data, Initialize dict object to hold our key-value pairs of items and metrics, Initialize a row counter variable\n",
    "report = {}\n",
    "row_count = 0\n",
    "menu = []\n",
    "sales = []"
   ]
  },
  {
   "cell_type": "code",
   "execution_count": 4,
   "metadata": {},
   "outputs": [],
   "source": [
    "# Read in the menu data into the menu list\n",
    "with open(menu_filepath, 'r') as csvfile:\n",
    "    # print(csvfile)\n",
    "    \n",
    "    csv_reader = csv.reader(csvfile, delimiter = ',')\n",
    "    header = next(csv_reader)\n",
    "    \n",
    "    # print(f\"{header} <- this is the header\" )\n",
    "    \n",
    "    for row in csv_reader:\n",
    "        menu.append(row)"
   ]
  },
  {
   "cell_type": "code",
   "execution_count": 5,
   "metadata": {},
   "outputs": [],
   "source": [
    "# Read in the sales data into the sales list\n",
    "with open(sales_filepath, 'r') as csvfile:\n",
    "    # print(csvfile)\n",
    "    \n",
    "    csv_reader = csv.reader(csvfile, delimiter = ',')\n",
    "    header = next(csv_reader)\n",
    "    \n",
    "    # print(f\"{header} <- this is the header\" )\n",
    "    \n",
    "    for row in csv_reader:\n",
    "        sales.append(row)"
   ]
  },
  {
   "cell_type": "code",
   "execution_count": 6,
   "metadata": {},
   "outputs": [],
   "source": [
    "# Initialize dict object to hold our key-value pairs of items and metrics\n",
    "for sales_row in sales:\n",
    "    \n",
    "    sales_item = sales_row[4] \n",
    "    quantity = sales_row[3]\n",
    "\n",
    "    if sales_item not in report:\n",
    "        report[sales_item] = {\"01-count\": 0, \"02-revenue\": 0, \"03-cogs\": 0, \"04-profit\": 0}\n",
    "    else:\n",
    "        continue\n",
    "\n",
    "# extra quantites from sales to report\n",
    "for sales_row in sales:\n",
    "    \n",
    "    sales_item = sales_row[4]\n",
    "    quantity = sales_row[3]\n",
    "    \n",
    "    if sales_item in report:\n",
    "        report[sales_item][\"01-count\"] += int(quantity)"
   ]
  },
  {
   "cell_type": "code",
   "execution_count": 7,
   "metadata": {},
   "outputs": [],
   "source": [
    "# Initialize a row counter variable\n",
    "# extra price and cost from menu and calculate revenue and cogs\n",
    "for sales_row in sales:\n",
    "    \n",
    "    sales_item = sales_row[4]\n",
    "    quantity = sales_row[3]\n",
    "    \n",
    "    for menu_row in menu:\n",
    "        menu_item = menu_row[0]\n",
    "        menu_price = menu_row[3]\n",
    "        menu_cost = menu_row[4]\n",
    "        \n",
    "        if sales_item == menu_item:\n",
    "            report[menu_item][\"02-revenue\"] += (int(menu_price) * int(quantity))\n",
    "            report[menu_item][\"03-cogs\"] += (int(menu_cost) * int(quantity))\n",
    "        elif sales_item != menu_item:\n",
    "            continue\n"
   ]
  },
  {
   "cell_type": "code",
   "execution_count": 8,
   "metadata": {},
   "outputs": [],
   "source": [
    "#  For every row in our sales data, loop over the menu records to determine a match\n",
    "\n",
    "# Item,Category,Description,Price,Cost\n",
    "        \n",
    "# Calculate profit of each item in the menu data\n",
    "# calculate profit using revenue and cogs\n",
    "for item, valuedict in report.items():\n",
    "     \n",
    "    for key in valuedict:\n",
    "        \n",
    "        cogs = report[item][\"03-cogs\"]\n",
    "        revenue = report[item][\"02-revenue\"]\n",
    "        \n",
    "        if key == \"04-profit\":\n",
    "            report[item][key] = revenue - cogs\n",
    "        else:\n",
    "            continue \n",
    "\n",
    "       "
   ]
  },
  {
   "cell_type": "code",
   "execution_count": 9,
   "metadata": {},
   "outputs": [
    {
     "name": "stdout",
     "output_type": "stream",
     "text": [
      "Final Report Results\n",
      "------------------------\n",
      "{'spicy miso ramen': {'01-count': 9238, '02-revenue': 110856, '03-cogs': 46190, '04-profit': 64666}, 'tori paitan ramen': {'01-count': 9156, '02-revenue': 119028, '03-cogs': 54936, '04-profit': 64092}, 'truffle butter ramen': {'01-count': 8982, '02-revenue': 125748, '03-cogs': 62874, '04-profit': 62874}, 'tonkotsu ramen': {'01-count': 9288, '02-revenue': 120744, '03-cogs': 55728, '04-profit': 65016}, 'vegetarian spicy miso': {'01-count': 9216, '02-revenue': 110592, '03-cogs': 46080, '04-profit': 64512}, 'shio ramen': {'01-count': 9180, '02-revenue': 100980, '03-cogs': 45900, '04-profit': 55080}, 'miso crab ramen': {'01-count': 8890, '02-revenue': 106680, '03-cogs': 53340, '04-profit': 53340}, 'nagomi shoyu': {'01-count': 9132, '02-revenue': 100452, '03-cogs': 45660, '04-profit': 54792}, 'soft-shell miso crab ramen': {'01-count': 9130, '02-revenue': 127820, '03-cogs': 63910, '04-profit': 63910}, 'burnt garlic tonkotsu ramen': {'01-count': 9070, '02-revenue': 126980, '03-cogs': 54420, '04-profit': 72560}, 'vegetarian curry + king trumpet mushroom ramen': {'01-count': 8824, '02-revenue': 114712, '03-cogs': 61768, '04-profit': 52944}}\n"
     ]
    }
   ],
   "source": [
    "# @TODO: Print total number of records in sales data\n",
    "print(f\"Final Report Results\")\n",
    "print(f\"------------------------\")\n",
    "print(report)"
   ]
  }
 ],
 "metadata": {
  "kernelspec": {
   "display_name": "Python 3",
   "language": "python",
   "name": "python3"
  },
  "language_info": {
   "codemirror_mode": {
    "name": "ipython",
    "version": 3
   },
   "file_extension": ".py",
   "mimetype": "text/x-python",
   "name": "python",
   "nbconvert_exporter": "python",
   "pygments_lexer": "ipython3",
   "version": "3.8.3"
  }
 },
 "nbformat": 4,
 "nbformat_minor": 4
}
