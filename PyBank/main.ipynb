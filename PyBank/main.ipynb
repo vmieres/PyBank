{
 "cells": [
  {
   "cell_type": "markdown",
   "metadata": {},
   "source": [
    "# PyBank\n",
    "\n",
    "### Python  Script that analyzes the records to calculate each of the following:\n",
    "* The total number of months included in the dataset.\n",
    "* The net total amount of Profit/Losses over the entire period.\n",
    "* The average of the changes in Profit/Losses over the entire period.\n",
    "* The greatest increase in profits (date and amount) over the entire period.\n",
    "* The greatest decrease in losses (date and amount) over the entire period."
   ]
  },
  {
   "cell_type": "code",
   "execution_count": 1,
   "metadata": {},
   "outputs": [],
   "source": [
    "from pathlib import Path\n",
    "import csv\n",
    "\n",
    "# set the path for the csv file\n",
    "csv_path = Path(r\"C:\\Users\\vmier\\Desktop\\Homework\\HW2\\python-homework\\PyBank\\budget_data.csv\")"
   ]
  },
  {
   "cell_type": "code",
   "execution_count": 2,
   "metadata": {},
   "outputs": [],
   "source": [
    "# initiate lists and variables for the budget data file\n",
    "month_list = []\n",
    "profit_loss_list = []\n",
    "\n",
    "# the min and max profit/loss and corresponding month\n",
    "greatest_increase_month = ''\n",
    "greatest_increase_amount = 0\n",
    "greatest_decrease_month = ''\n",
    "greatest_decrease_amount = 0"
   ]
  },
  {
   "cell_type": "code",
   "execution_count": 3,
   "metadata": {},
   "outputs": [],
   "source": [
    "# to import the csv file\n",
    "with open(csv_path,\"r\") as csv_file:\n",
    "    csv_reader = csv.reader(csv_file, delimiter=',' )\n",
    "    next(csv_reader)\n",
    "    for row in csv_reader:\n",
    "            month_list.append(str(row[0]))\n",
    "            profit_loss_list.append(int(row[1]))"
   ]
  },
  {
   "cell_type": "code",
   "execution_count": 4,
   "metadata": {},
   "outputs": [],
   "source": [
    "# total number of months in the budget data file.\n",
    "total_months = len(month_list)"
   ]
  },
  {
   "cell_type": "code",
   "execution_count": 5,
   "metadata": {},
   "outputs": [],
   "source": [
    "# the net profit/loss\n",
    "net_profit_loss = 0\n",
    "\n",
    "for x in profit_loss_list:\n",
    "    net_profit_loss = net_profit_loss + x"
   ]
  },
  {
   "cell_type": "code",
   "execution_count": 6,
   "metadata": {},
   "outputs": [],
   "source": [
    "# average profit/loss\n",
    "average_monthly_change = []\n",
    "previous_month_amount = 0\n",
    "\n",
    "for x in range(len(profit_loss_list)):\n",
    "    if x == 0:\n",
    "        previous_month_amount = profit_loss_list[x]\n",
    "    else:\n",
    "        monthly_change = profit_loss_list[x] - previous_month_amount\n",
    "        average_monthly_change.append(monthly_change)\n",
    "        previous_month_amount = profit_loss_list[x]"
   ]
  },
  {
   "cell_type": "code",
   "execution_count": 7,
   "metadata": {},
   "outputs": [
    {
     "name": "stdout",
     "output_type": "stream",
     "text": [
      "-2315.1176470588234\n"
     ]
    }
   ],
   "source": [
    "# print(average_monthly_change)\n",
    "\n",
    "length = len(average_monthly_change)\n",
    "total = sum(average_monthly_change)\n",
    "profit_loss_average = total / length\n",
    "print(profit_loss_average)"
   ]
  },
  {
   "cell_type": "code",
   "execution_count": 8,
   "metadata": {},
   "outputs": [],
   "source": [
    "for x in range(len(average_monthly_change)):\n",
    "    if average_monthly_change[x] > greatest_increase_amount:\n",
    "        greatest_increase_amount = average_monthly_change[x]\n",
    "        greatest_increase_month = month_list[x+1]\n",
    "    elif average_monthly_change[x] < greatest_decrease_amount:\n",
    "        greatest_decrease_amount = average_monthly_change[x]\n",
    "        greatest_decrease_month = month_list[x+1]"
   ]
  },
  {
   "cell_type": "code",
   "execution_count": 9,
   "metadata": {},
   "outputs": [
    {
     "name": "stdout",
     "output_type": "stream",
     "text": [
      "Financial Analysis\n",
      "----------------------------\n",
      "Total Months: 86\n",
      "Total: $38382578\n",
      "Average Change: $-2315.12\n",
      "Greatest increase in profits: Feb-2012 for $1926159\n",
      "Greatest decrease in losses: Sep-2013 for $-2196167\n"
     ]
    }
   ],
   "source": [
    "\n",
    "print(f'Financial Analysis')\n",
    "print(f'----------------------------')\n",
    "# The total number of months included in the dataset\n",
    "print(f'Total Months: {total_months}')\n",
    "\n",
    "# The net total amount of \"Profit/Losses\" over the entire period\n",
    "print(f'Total: ${net_profit_loss}')\n",
    "\n",
    "# The average of the changes in \"Profit/Losses\" over the entire period\n",
    "print(f'Average Change: ${profit_loss_average:.2f}')\n",
    "\n",
    "# The greatest increase in profits (date and amount) over the entire period\n",
    "print(f'Greatest increase in profits: {greatest_increase_month} for ${greatest_increase_amount}')\n",
    "\n",
    "# The greatest decrease in losses (date and amount) over the entire period\n",
    "print(f'Greatest decrease in losses: {greatest_decrease_month} for ${greatest_decrease_amount}')"
   ]
  }
 ],
 "metadata": {
  "kernelspec": {
   "display_name": "Python 3",
   "language": "python",
   "name": "python3"
  },
  "language_info": {
   "codemirror_mode": {
    "name": "ipython",
    "version": 3
   },
   "file_extension": ".py",
   "mimetype": "text/x-python",
   "name": "python",
   "nbconvert_exporter": "python",
   "pygments_lexer": "ipython3",
   "version": "3.8.3"
  }
 },
 "nbformat": 4,
 "nbformat_minor": 4
}
